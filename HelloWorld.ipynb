{
 "cells": [
  {
   "cell_type": "code",
   "execution_count": 2,
   "id": "530fd9e6-eba5-4435-b365-34a57f1f0e45",
   "metadata": {},
   "outputs": [
    {
     "name": "stdout",
     "output_type": "stream",
     "text": [
      "Hello, world!\n"
     ]
    }
   ],
   "source": [
    "print(\"Hello, world!\")"
   ]
  },
  {
   "cell_type": "markdown",
   "id": "ac2a695c-1d7d-4c77-9675-b1ec6c5f5258",
   "metadata": {
    "tags": []
   },
   "source": [
    "# My First Markdown Heading"
   ]
  },
  {
   "cell_type": "markdown",
   "id": "71e9b165-3936-4dac-b3b5-6f619adf3ae0",
   "metadata": {},
   "source": [
    "## My Second Markdown Heading"
   ]
  },
  {
   "cell_type": "markdown",
   "id": "74371c90-d61e-47b5-a852-880c812aef4f",
   "metadata": {},
   "source": [
    "This is some **bold** text "
   ]
  },
  {
   "cell_type": "markdown",
   "id": "c133b507-fb7f-4bbe-bf26-6c3c9a5b626a",
   "metadata": {},
   "source": [
    "1. First Item\n",
    "2. Second Item\n",
    "3. Third Item"
   ]
  },
  {
   "cell_type": "code",
   "execution_count": 8,
   "id": "99e1aff7-f616-48f1-8b10-d83a31ec7946",
   "metadata": {},
   "outputs": [],
   "source": [
    "my_var = 5"
   ]
  },
  {
   "cell_type": "code",
   "execution_count": 9,
   "id": "b21bcd6c-a9b6-4adb-b827-297c6d38a5b1",
   "metadata": {},
   "outputs": [
    {
     "name": "stdout",
     "output_type": "stream",
     "text": [
      "10\n"
     ]
    }
   ],
   "source": [
    "result = my_var * 2\n",
    "print (result)"
   ]
  },
  {
   "cell_type": "code",
   "execution_count": null,
   "id": "2e518048-1b44-4558-b8c0-e1438687a65a",
   "metadata": {},
   "outputs": [],
   "source": []
  }
 ],
 "metadata": {
  "kernelspec": {
   "display_name": "Python 3 (ipykernel)",
   "language": "python",
   "name": "python3"
  },
  "language_info": {
   "codemirror_mode": {
    "name": "ipython",
    "version": 3
   },
   "file_extension": ".py",
   "mimetype": "text/x-python",
   "name": "python",
   "nbconvert_exporter": "python",
   "pygments_lexer": "ipython3",
   "version": "3.10.9"
  }
 },
 "nbformat": 4,
 "nbformat_minor": 5
}
